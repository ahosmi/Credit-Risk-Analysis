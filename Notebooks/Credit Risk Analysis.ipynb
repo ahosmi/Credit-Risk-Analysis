{
 "cells": [
  {
   "cell_type": "code",
   "execution_count": null,
   "id": "cd87c846-9a87-459e-bfbe-8d1bf3462000",
   "metadata": {},
   "outputs": [],
   "source": [
    "import numpy as np\n",
    "import pandas as pd"
   ]
  },
  {
   "cell_type": "code",
   "execution_count": null,
   "id": "340ccc2a-7715-43b5-a7b1-5447d0941853",
   "metadata": {},
   "outputs": [],
   "source": [
    "df = pd.read_csv(\"../Data/loan.csv\")\n",
    "df"
   ]
  },
  {
   "cell_type": "code",
   "execution_count": null,
   "id": "4bb9786d-dc46-4efa-b770-482843bea4ff",
   "metadata": {},
   "outputs": [],
   "source": [
    "# Finding duplicate values\n",
    "df[df.duplicated() == True]"
   ]
  },
  {
   "cell_type": "code",
   "execution_count": null,
   "id": "77ee1a5d-a9be-4e25-8faa-53921577f438",
   "metadata": {},
   "outputs": [],
   "source": [
    "df.info()"
   ]
  },
  {
   "cell_type": "code",
   "execution_count": null,
   "id": "2837b295-4c23-4ca2-830f-5fec502d96d4",
   "metadata": {},
   "outputs": [],
   "source": [
    "# Total number of missing values present in each feature.\n",
    "df.isna().sum()"
   ]
  },
  {
   "cell_type": "code",
   "execution_count": null,
   "id": "e431f7f5-f609-4e34-b796-33a3979afc43",
   "metadata": {},
   "outputs": [],
   "source": [
    "# Percentage of missing values in each feature towards in the whole data set.\n",
    "df.isna().sum() / len(df) * 100"
   ]
  },
  {
   "cell_type": "code",
   "execution_count": null,
   "id": "a3727c3c-c492-40fa-801a-e270a6f5525c",
   "metadata": {},
   "outputs": [],
   "source": [
    "df.isna().sum() / df.shape[0] * 100"
   ]
  },
  {
   "cell_type": "code",
   "execution_count": null,
   "id": "34b9f275-e1b3-4a93-9c09-dcf5006a970f",
   "metadata": {},
   "outputs": [],
   "source": [
    "null_percent_df = pd.DataFrame(df.isna().sum() / df.shape[0] * 100)\n",
    "null_percent_df"
   ]
  },
  {
   "cell_type": "code",
   "execution_count": null,
   "id": "82ba5681-c2b8-4253-99f4-3fbf77256dd2",
   "metadata": {},
   "outputs": [],
   "source": [
    "df['Gender'].fillna(df['Gender'].mode()[0], inplace = True)"
   ]
  },
  {
   "cell_type": "code",
   "execution_count": null,
   "id": "af4df9e0-175e-47b0-858b-979edd1e6b8d",
   "metadata": {},
   "outputs": [],
   "source": [
    "# This only considers the features which data type has numeric values\n",
    "df.describe()"
   ]
  },
  {
   "cell_type": "code",
   "execution_count": null,
   "id": "be210b12-b760-4d12-a1c6-877e7a1abdf3",
   "metadata": {},
   "outputs": [],
   "source": [
    "v = df['Gender'].mode()[0]\n",
    "v\n",
    "# 'Male' value replaced all the null values in Gender feature"
   ]
  },
  {
   "cell_type": "code",
   "execution_count": null,
   "id": "a366756f-fbef-4f7a-a9b7-68648de61131",
   "metadata": {},
   "outputs": [],
   "source": [
    "# This consider all features\n",
    "df.describe(include='all')"
   ]
  },
  {
   "cell_type": "code",
   "execution_count": null,
   "id": "b9998bb5-4717-4abb-a198-2956188e49ca",
   "metadata": {},
   "outputs": [],
   "source": [
    "df['Married'].fillna(df['Married'].mode()[0], inplace = True)"
   ]
  },
  {
   "cell_type": "code",
   "execution_count": null,
   "id": "5df445b4-2d25-420d-a835-6036e72770cf",
   "metadata": {},
   "outputs": [],
   "source": [
    "df['Dependents'].fillna(df['Dependents'].mode()[0], inplace = True)"
   ]
  },
  {
   "cell_type": "code",
   "execution_count": null,
   "id": "7234d39d-a79e-4905-8a63-3767ae7d5d15",
   "metadata": {},
   "outputs": [],
   "source": [
    "df['Self_Employed'].fillna(df['Self_Employed'].mode()[0], inplace = True)"
   ]
  },
  {
   "cell_type": "code",
   "execution_count": null,
   "id": "7dff570b-71bd-4cc8-8610-e7c4dae8d18d",
   "metadata": {},
   "outputs": [],
   "source": [
    "# Mean is preferred because it gives optimal value\n",
    "# Mode can give the highest value if that's the maximum count\n",
    "df['LoanAmount'].fillna(df['LoanAmount'].mean(), inplace = True)"
   ]
  },
  {
   "cell_type": "code",
   "execution_count": null,
   "id": "fa4cb2b7-d493-494e-93ea-b28ac01e7741",
   "metadata": {},
   "outputs": [],
   "source": [
    "df['Loan_Amount_Term'].fillna(df['Loan_Amount_Term'].mode()[0], inplace = True)"
   ]
  },
  {
   "cell_type": "code",
   "execution_count": null,
   "id": "cb8df47a-7a96-4ee4-8531-0d6eb2357c3d",
   "metadata": {},
   "outputs": [],
   "source": [
    "df['Credit_History'].fillna(df['Credit_History'].mode()[0], inplace = True)"
   ]
  },
  {
   "cell_type": "code",
   "execution_count": null,
   "id": "93bbb4ac-8e3c-4f9e-8c49-56bfe6cdcf0d",
   "metadata": {},
   "outputs": [],
   "source": [
    "df['Gender'].replace({\"Male\" : 1, \"Female\" : 0}, inplace = True)"
   ]
  },
  {
   "cell_type": "code",
   "execution_count": null,
   "id": "cdcebd1f-5c09-49db-b2a9-503743e6062f",
   "metadata": {},
   "outputs": [],
   "source": [
    "df['Married'].unique()"
   ]
  },
  {
   "cell_type": "code",
   "execution_count": null,
   "id": "10fecc5e-0d95-4cce-ad49-16b061040a7e",
   "metadata": {},
   "outputs": [],
   "source": [
    "df['Married'].replace({\"Yes\" : 1, \"No\" : 0}, inplace = True)"
   ]
  },
  {
   "cell_type": "code",
   "execution_count": null,
   "id": "a8d422f7-b34e-491f-b4a5-c68a9f8c9b2f",
   "metadata": {},
   "outputs": [],
   "source": [
    "df['Dependents'].unique()"
   ]
  },
  {
   "cell_type": "code",
   "execution_count": null,
   "id": "a916079e-000f-431f-8eda-6e2a48126c36",
   "metadata": {},
   "outputs": [],
   "source": [
    "df['Education'].unique()"
   ]
  },
  {
   "cell_type": "code",
   "execution_count": null,
   "id": "ddb53137-ac7f-4335-b9b7-6e5b36734772",
   "metadata": {},
   "outputs": [],
   "source": [
    "df['Education'].replace({\"Graduate\" : 1, \"Not Graduate\" : 0}, inplace = True)"
   ]
  },
  {
   "cell_type": "code",
   "execution_count": null,
   "id": "c887dcb4-80b3-47b2-863d-6bc76f035fdb",
   "metadata": {},
   "outputs": [],
   "source": [
    "df['Self_Employed'].unique()"
   ]
  },
  {
   "cell_type": "code",
   "execution_count": null,
   "id": "c6776887-7bbb-4401-95e5-960894389763",
   "metadata": {},
   "outputs": [],
   "source": [
    "df['Self_Employed'].replace({\"Yes\" : 1, \"No\" : 0}, inplace = True)"
   ]
  },
  {
   "cell_type": "code",
   "execution_count": null,
   "id": "647dd071-f59c-43bd-9543-91649b4f7517",
   "metadata": {},
   "outputs": [],
   "source": [
    "df['Property_Area'].unique()"
   ]
  },
  {
   "cell_type": "code",
   "execution_count": null,
   "id": "8fbce350-0590-459b-979e-580c0a488559",
   "metadata": {},
   "outputs": [],
   "source": [
    "df['Loan_Status'].replace({\"Y\" : 1, \"N\" : 0}, inplace = True)"
   ]
  },
  {
   "cell_type": "code",
   "execution_count": null,
   "id": "be65685b-e565-4e59-993d-fe75d40c5ba8",
   "metadata": {},
   "outputs": [],
   "source": [
    "df.info()"
   ]
  },
  {
   "cell_type": "code",
   "execution_count": null,
   "id": "3cf5a8e7-1f45-46d8-9f63-a07775bba8ec",
   "metadata": {},
   "outputs": [],
   "source": [
    "df.isna().sum() / len(df) * 100"
   ]
  },
  {
   "cell_type": "code",
   "execution_count": null,
   "id": "fbcb8511-367b-4ab2-8a8d-663735252773",
   "metadata": {},
   "outputs": [],
   "source": [
    "from sklearn.preprocessing import LabelEncoder"
   ]
  },
  {
   "cell_type": "code",
   "execution_count": null,
   "id": "05110c68-3255-4dac-b637-7f25326e7815",
   "metadata": {},
   "outputs": [],
   "source": [
    "le = LabelEncoder()"
   ]
  },
  {
   "cell_type": "code",
   "execution_count": null,
   "id": "9bd14f31-5379-45c4-a89b-185955145a04",
   "metadata": {},
   "outputs": [],
   "source": [
    "df['Dependents'] = le.fit_transform(df['Dependents'])"
   ]
  },
  {
   "cell_type": "code",
   "execution_count": null,
   "id": "16eb609b-4c98-49f5-9594-8b37496ed987",
   "metadata": {},
   "outputs": [],
   "source": [
    "df['Property_Area'] = le.fit_transform(df['Property_Area'])"
   ]
  },
  {
   "cell_type": "code",
   "execution_count": null,
   "id": "32430800-99f5-459d-9446-489833f00d05",
   "metadata": {},
   "outputs": [],
   "source": [
    "le.classes_"
   ]
  },
  {
   "cell_type": "code",
   "execution_count": null,
   "id": "9e41756b-1a25-4c2f-83ca-172f10d0f9f4",
   "metadata": {},
   "outputs": [],
   "source": [
    "le.transform(le.classes_)"
   ]
  },
  {
   "cell_type": "code",
   "execution_count": null,
   "id": "02c08ced-0c96-4029-b1e2-e548d1fd557f",
   "metadata": {},
   "outputs": [],
   "source": [
    "le_dict = dict(zip(le.classes_, le.transform(le.classes_)))\n",
    "le_dict"
   ]
  },
  {
   "cell_type": "code",
   "execution_count": null,
   "id": "879304c6-ded7-4fef-95cd-d8659a2aa0bd",
   "metadata": {},
   "outputs": [],
   "source": [
    "df.info()"
   ]
  },
  {
   "cell_type": "code",
   "execution_count": null,
   "id": "8a0550d1-480c-4af7-8f46-d9ad7893a95f",
   "metadata": {},
   "outputs": [],
   "source": [
    "import seaborn as sns"
   ]
  },
  {
   "cell_type": "code",
   "execution_count": null,
   "id": "25a8df86-f885-4656-a398-2fc5a5b11387",
   "metadata": {},
   "outputs": [],
   "source": [
    "# To detect boxplot\n",
    "sns.boxplot(df['LoanAmount'])"
   ]
  },
  {
   "cell_type": "code",
   "execution_count": null,
   "id": "042cc4e5-b4d4-4bd4-a598-05a28016bec0",
   "metadata": {},
   "outputs": [],
   "source": [
    "import matplotlib.pyplot as plt\n",
    "%matplotlib inline"
   ]
  },
  {
   "cell_type": "code",
   "execution_count": null,
   "id": "e15d849d-4516-4190-a0cb-5221f6deb1a2",
   "metadata": {},
   "outputs": [],
   "source": [
    "# Histogram\n",
    "# Right Skewed Data\n",
    "df['LoanAmount'].hist(bins = 50)"
   ]
  },
  {
   "cell_type": "code",
   "execution_count": null,
   "id": "351b97de-c821-49a1-ac61-13421d504126",
   "metadata": {},
   "outputs": [],
   "source": [
    "# Power Transform\n",
    "# To remove the skewness and get Normal Distribution\n",
    "plt.hist(np.log(df['LoanAmount']))"
   ]
  },
  {
   "cell_type": "code",
   "execution_count": null,
   "id": "6c24ed30-8697-461a-adcf-108a844d5754",
   "metadata": {},
   "outputs": [],
   "source": [
    "df['log_LoanAmount'] = np.log(df['LoanAmount'])"
   ]
  },
  {
   "cell_type": "code",
   "execution_count": null,
   "id": "e0964adf-c449-49de-b426-508b0dc5fb9e",
   "metadata": {},
   "outputs": [],
   "source": [
    "sns.boxplot(df['log_LoanAmount'])"
   ]
  },
  {
   "cell_type": "code",
   "execution_count": null,
   "id": "dc1f071a-3498-44a1-b67d-13b617207ba6",
   "metadata": {},
   "outputs": [],
   "source": [
    "sns.distplot(df['log_LoanAmount'], kde = True)"
   ]
  },
  {
   "cell_type": "code",
   "execution_count": null,
   "id": "66b733c6-a999-4624-8a21-d9989145846c",
   "metadata": {},
   "outputs": [],
   "source": [
    "df.columns"
   ]
  },
  {
   "cell_type": "code",
   "execution_count": null,
   "id": "a97f0f74-33a4-435e-b948-ef09ae2733e0",
   "metadata": {},
   "outputs": [],
   "source": [
    "df['TotalIncome'] = df['ApplicantIncome'] + df['CoapplicantIncome']"
   ]
  },
  {
   "cell_type": "code",
   "execution_count": null,
   "id": "46a35a21-d437-4383-8cdb-e78b714ed0ca",
   "metadata": {},
   "outputs": [],
   "source": [
    "sns.boxplot(df['TotalIncome'])"
   ]
  },
  {
   "cell_type": "code",
   "execution_count": null,
   "id": "16d86f6a-9ea0-4111-9b65-a360dd67c35e",
   "metadata": {},
   "outputs": [],
   "source": [
    "df['TotalIncome'].hist()"
   ]
  },
  {
   "cell_type": "code",
   "execution_count": null,
   "id": "4e67d9aa-3213-465d-af55-10c3cb1b674e",
   "metadata": {},
   "outputs": [],
   "source": [
    "df['log_TotalIncome'] = np.log(df['TotalIncome'])"
   ]
  },
  {
   "cell_type": "code",
   "execution_count": null,
   "id": "57ee29bb-202d-4baa-b235-47f66368c15d",
   "metadata": {},
   "outputs": [],
   "source": [
    "df.head()"
   ]
  },
  {
   "cell_type": "code",
   "execution_count": null,
   "id": "b9eab080-cf27-483a-be93-1de9998c22be",
   "metadata": {},
   "outputs": [],
   "source": [
    "df.drop(columns=['Loan_ID', 'ApplicantIncome', 'CoapplicantIncome', 'LoanAmount', 'TotalIncome'], axis = 1, inplace = True)"
   ]
  },
  {
   "cell_type": "code",
   "execution_count": null,
   "id": "20e5ad27-8b99-4eca-b8c4-7120c93baead",
   "metadata": {},
   "outputs": [],
   "source": [
    "df.columns"
   ]
  },
  {
   "cell_type": "code",
   "execution_count": null,
   "id": "a76d8365-39bd-47f6-9dee-3f3b6cea6bae",
   "metadata": {},
   "outputs": [],
   "source": [
    "df = df[['Gender', 'Married', 'Dependents', 'Education', 'Self_Employed', 'Loan_Amount_Term', 'Credit_History', \n",
    "              'Property_Area', 'log_LoanAmount', 'log_TotalIncome', 'Loan_Status']]"
   ]
  },
  {
   "cell_type": "code",
   "execution_count": null,
   "id": "df62bf6d-b007-44db-b510-80f9af26d75d",
   "metadata": {},
   "outputs": [],
   "source": [
    "X = df.drop(columns = ['Loan_Status'])\n",
    "y = df['Loan_Status']\n",
    "X.shape"
   ]
  },
  {
   "cell_type": "code",
   "execution_count": null,
   "id": "0a6fe70e-738a-4b0d-88c5-f990a5d4542c",
   "metadata": {},
   "outputs": [],
   "source": [
    "y.shape"
   ]
  },
  {
   "cell_type": "code",
   "execution_count": null,
   "id": "05ddc4fe-aa68-41e4-bd60-b09f011fd2e6",
   "metadata": {},
   "outputs": [],
   "source": [
    "from sklearn.model_selection import train_test_split"
   ]
  },
  {
   "cell_type": "code",
   "execution_count": null,
   "id": "01bb6441-0fb2-4a8f-b845-ba1d8df2cac7",
   "metadata": {},
   "outputs": [],
   "source": [
    "X_train, X_test, y_train, y_test = train_test_split(X, y, test_size = 0.2, random_state = 35, stratify = y)"
   ]
  },
  {
   "cell_type": "code",
   "execution_count": null,
   "id": "221bd244-4f3b-48bf-86af-c4d7727f9a83",
   "metadata": {},
   "outputs": [],
   "source": [
    "from sklearn.linear_model import LogisticRegression"
   ]
  },
  {
   "cell_type": "code",
   "execution_count": null,
   "id": "b12e44b2-ec09-4f40-ab30-4b616bdb6fa7",
   "metadata": {},
   "outputs": [],
   "source": [
    "logreg = LogisticRegression()\n",
    "model = logreg.fit(X_train, y_train)\n",
    "model"
   ]
  },
  {
   "cell_type": "code",
   "execution_count": null,
   "id": "3019b354-3de0-43d4-9fb6-c7b44373db75",
   "metadata": {},
   "outputs": [],
   "source": [
    "y_pred_logreg = model.predict(X_test)\n",
    "y_pred_logreg[0 : 10]"
   ]
  },
  {
   "cell_type": "code",
   "execution_count": null,
   "id": "808d1ddc-f627-4b5f-b547-0d7cb1b80d42",
   "metadata": {},
   "outputs": [],
   "source": [
    "y_test[0 : 10]"
   ]
  },
  {
   "cell_type": "code",
   "execution_count": null,
   "id": "7f485be3-fe0e-4ae2-8814-69064a05b993",
   "metadata": {},
   "outputs": [],
   "source": [
    "from sklearn.metrics import accuracy_score, confusion_matrix, classification_report, roc_auc_score, precision_score"
   ]
  },
  {
   "cell_type": "code",
   "execution_count": null,
   "id": "ccc74704-a145-4e09-b073-7aee056d7a2d",
   "metadata": {},
   "outputs": [],
   "source": [
    "accuracy_score(y_test, y_pred_logreg)"
   ]
  },
  {
   "cell_type": "code",
   "execution_count": null,
   "id": "2d4b5b4b-c8a1-4507-a15d-9f7c65177cfc",
   "metadata": {},
   "outputs": [],
   "source": [
    "print(classification_report(y_test, y_pred_logreg))"
   ]
  },
  {
   "cell_type": "code",
   "execution_count": null,
   "id": "e41c8279-21fb-400f-973c-7cc6ec04228b",
   "metadata": {},
   "outputs": [],
   "source": [
    "confusion_matrix(y_test, y_pred_logreg)"
   ]
  },
  {
   "cell_type": "code",
   "execution_count": null,
   "id": "672b4759-87ef-426f-92de-a7cc06e1985e",
   "metadata": {},
   "outputs": [],
   "source": [
    "X_train, X_test, y_train, y_test = train_test_split(X, y, test_size = 0.2, random_state = 10, stratify = y)"
   ]
  },
  {
   "cell_type": "code",
   "execution_count": null,
   "id": "9b657ea0-dc05-40a9-9a89-ab652dd45d1b",
   "metadata": {},
   "outputs": [],
   "source": [
    "logreg = LogisticRegression()\n",
    "model = logreg.fit(X_train, y_train)\n",
    "y_pred_logreg = model.predict(X_test)\n",
    "accuracy_score(y_test, y_pred_logreg)"
   ]
  },
  {
   "cell_type": "code",
   "execution_count": null,
   "id": "76891ac6-a93c-4f77-a47a-4911c4a8e55a",
   "metadata": {},
   "outputs": [],
   "source": [
    "precision_logreg = precision_score(y_test, y_pred_logreg)\n",
    "precision_logreg"
   ]
  },
  {
   "cell_type": "code",
   "execution_count": null,
   "id": "6820c737-ee9e-4be3-b7dc-2d52b332e1ca",
   "metadata": {},
   "outputs": [],
   "source": [
    "from sklearn.tree import DecisionTreeClassifier"
   ]
  },
  {
   "cell_type": "code",
   "execution_count": null,
   "id": "1d171e83-0cdd-4690-94bf-0ce90a3958de",
   "metadata": {},
   "outputs": [],
   "source": [
    "tree_clf = DecisionTreeClassifier()"
   ]
  },
  {
   "cell_type": "code",
   "execution_count": null,
   "id": "aad9e0c2-ee61-4f54-8c38-76ac2be872d0",
   "metadata": {},
   "outputs": [],
   "source": [
    "tree_clf.fit(X_train, y_train)"
   ]
  },
  {
   "cell_type": "code",
   "execution_count": null,
   "id": "ba067322-d13f-460b-98c4-2ad93a9d949b",
   "metadata": {},
   "outputs": [],
   "source": [
    "y_pred_tree_clf = tree_clf.predict(X_test)"
   ]
  },
  {
   "cell_type": "code",
   "execution_count": null,
   "id": "900d5b4e-6c4c-46f3-ad9b-f633c67cbdaf",
   "metadata": {},
   "outputs": [],
   "source": [
    "y_pred_tree_clf[0 : 10]"
   ]
  },
  {
   "cell_type": "code",
   "execution_count": null,
   "id": "5fec986e-82e8-43fc-bc15-d5b425ed4ba4",
   "metadata": {},
   "outputs": [],
   "source": [
    "y_test[0 : 10]"
   ]
  },
  {
   "cell_type": "code",
   "execution_count": null,
   "id": "a7391b0b-4d03-460d-bcc1-9173da30f174",
   "metadata": {},
   "outputs": [],
   "source": [
    "accuracy_score(y_test, y_pred_tree_clf)"
   ]
  },
  {
   "cell_type": "code",
   "execution_count": null,
   "id": "b5aa9220-807a-41be-8d0f-63d681f0468f",
   "metadata": {},
   "outputs": [],
   "source": [
    "precision_tree = precision_score(y_test, y_pred_tree_clf)\n",
    "precision_tree"
   ]
  },
  {
   "cell_type": "code",
   "execution_count": null,
   "id": "12d9d745-9d72-4d8f-8121-151b57a5d0a0",
   "metadata": {},
   "outputs": [],
   "source": [
    "from sklearn.model_selection import GridSearchCV, RandomizedSearchCV"
   ]
  },
  {
   "cell_type": "code",
   "execution_count": null,
   "id": "8169d064-685c-4305-a0b3-3e139a4d0270",
   "metadata": {},
   "outputs": [],
   "source": [
    "hyperparameter = {\n",
    "    'criterion' : ['gini', 'entropy'],\n",
    "    'max_depth' : np.arange(2, 15),\n",
    "    'min_samples_split' : np.arange(2, 10),\n",
    "    'min_samples_leaf' : np.arange(2, 10)\n",
    "}"
   ]
  },
  {
   "cell_type": "code",
   "execution_count": null,
   "id": "e5f7627c-46d1-40b7-ab64-31d048118c2f",
   "metadata": {},
   "outputs": [],
   "source": [
    "%%time\n",
    "grid_tree_clf = GridSearchCV(tree_clf, hyperparameter, cv = 10, n_jobs = -1)\n",
    "grid_tree_clf.fit(X_train, y_train)"
   ]
  },
  {
   "cell_type": "code",
   "execution_count": null,
   "id": "351631ba-18e2-41d2-92d8-f160f694958e",
   "metadata": {},
   "outputs": [],
   "source": [
    "hyperparameter = {\n",
    "    'criterion' : ['gini', 'entropy'],\n",
    "    'max_depth' : np.arange(2, 15),\n",
    "    'min_samples_split' : np.arange(2, 10),\n",
    "    'min_samples_leaf' : np.arange(2, 10)\n",
    "}"
   ]
  },
  {
   "cell_type": "code",
   "execution_count": null,
   "id": "dc051e36-46e4-455d-85ad-b7325f196f2d",
   "metadata": {},
   "outputs": [],
   "source": [
    "%%time\n",
    "grid_tree_clf = RandomizedSearchCV(tree_clf, hyperparameter, cv = 10, n_jobs = -1)\n",
    "grid_tree_clf.fit(X_train, y_train)"
   ]
  },
  {
   "cell_type": "code",
   "execution_count": null,
   "id": "ad1a2e93-eb49-4f8f-959b-da0b8b1efdd0",
   "metadata": {},
   "outputs": [],
   "source": [
    "grid_tree_clf.best_params_"
   ]
  },
  {
   "cell_type": "code",
   "execution_count": null,
   "id": "6ae550e7-5e17-447f-b8f9-306fa36687f4",
   "metadata": {},
   "outputs": [],
   "source": [
    "y_pred_grid_tree_clf = grid_tree_clf.predict(X_test)"
   ]
  },
  {
   "cell_type": "code",
   "execution_count": null,
   "id": "22da8701-cd51-465a-ac32-d4fd214d3d60",
   "metadata": {},
   "outputs": [],
   "source": [
    "accuracy_score(y_test, y_pred_grid_tree_clf)"
   ]
  },
  {
   "cell_type": "code",
   "execution_count": null,
   "id": "57ff19b5-c99b-4ca6-ad03-083705371953",
   "metadata": {},
   "outputs": [],
   "source": [
    "precision_tree_hyper = precision_score(y_test, y_pred_grid_tree_clf)\n",
    "precision_tree_hyper"
   ]
  },
  {
   "cell_type": "code",
   "execution_count": null,
   "id": "1b7a9c37-db7d-4a4e-965d-4718d1074c94",
   "metadata": {},
   "outputs": [],
   "source": [
    "from xgboost import XGBClassifier, XGBRFClassifier"
   ]
  },
  {
   "cell_type": "code",
   "execution_count": null,
   "id": "3c4fab91-35bb-4568-b151-382b663464c1",
   "metadata": {},
   "outputs": [],
   "source": [
    "help(XGBRFClassifier)"
   ]
  },
  {
   "cell_type": "code",
   "execution_count": null,
   "id": "c50d8f08-5404-4b79-bdcf-f7436be45c21",
   "metadata": {},
   "outputs": [],
   "source": [
    "%%time\n",
    "xgb = XGBClassifier(n_estimators = 120)\n",
    "xgb.fit(X_train, y_train)"
   ]
  },
  {
   "cell_type": "code",
   "execution_count": null,
   "id": "fb7846bc-65fa-4c90-8b26-4f5f5764a6e2",
   "metadata": {},
   "outputs": [],
   "source": [
    "y_pred_xgb = xgb.predict(X_test)\n",
    "precision_xgb = precision_score(y_test, y_pred_xgb)\n",
    "precision_xgb"
   ]
  },
  {
   "cell_type": "code",
   "execution_count": null,
   "id": "4121aa09-b8e7-404e-852c-ad7d448add48",
   "metadata": {},
   "outputs": [],
   "source": [
    "print(f\"Logistic Regression: {precision_logreg}\")\n",
    "print(f\"Decision Tree: {precision_tree}\")\n",
    "print(f\"Decision Tree Hyper Parameter: {precision_tree_hyper}\")\n",
    "print(f\"XGboost: {precision_xgb}\")"
   ]
  },
  {
   "cell_type": "code",
   "execution_count": null,
   "id": "89540d9e-dd8b-4d61-a709-cf0c3f1a9a8f",
   "metadata": {},
   "outputs": [],
   "source": [
    "print(f\"Logistic Regression: {precision_logreg * 100}\")\n",
    "print(f\"Decision Tree: {precision_tree * 100}\")\n",
    "print(f\"Decision Tree Hyper Parameter: {precision_tree_hyper * 100}\")\n",
    "print(f\"XGboost: {precision_xgb * 100}\")"
   ]
  },
  {
   "cell_type": "code",
   "execution_count": null,
   "id": "1c8c5477-a5da-499d-99c0-7aa8bb4a46f0",
   "metadata": {},
   "outputs": [],
   "source": [
    "import pickle"
   ]
  },
  {
   "cell_type": "code",
   "execution_count": null,
   "id": "163c5b28-fdb3-48ed-94ad-eef3bfb89218",
   "metadata": {},
   "outputs": [],
   "source": [
    "model = pickle.dump(xgb, open('../Model/model.pkl', 'wb'))"
   ]
  },
  {
   "cell_type": "code",
   "execution_count": null,
   "id": "fbd947ef-ee2d-4319-97ec-9b149ae5273c",
   "metadata": {},
   "outputs": [],
   "source": []
  }
 ],
 "metadata": {
  "kernelspec": {
   "display_name": "Python 3 (ipykernel)",
   "language": "python",
   "name": "python3"
  },
  "language_info": {
   "codemirror_mode": {
    "name": "ipython",
    "version": 3
   },
   "file_extension": ".py",
   "mimetype": "text/x-python",
   "name": "python",
   "nbconvert_exporter": "python",
   "pygments_lexer": "ipython3",
   "version": "3.13.5"
  }
 },
 "nbformat": 4,
 "nbformat_minor": 5
}
