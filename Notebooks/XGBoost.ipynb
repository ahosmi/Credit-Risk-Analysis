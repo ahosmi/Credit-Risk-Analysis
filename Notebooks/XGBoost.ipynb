{
 "cells": [
  {
   "cell_type": "code",
   "execution_count": null,
   "id": "6947d239-c139-43fa-b252-065ed6b39dc8",
   "metadata": {},
   "outputs": [],
   "source": [
    "%%time\n",
    "import numpy as np\n",
    "import pandas as pd\n",
    "import matplotlib.pyplot as plt\n",
    "import seaborn as sns\n",
    "from sklearn.preprocessing import LabelEncoder\n",
    "from sklearn.model_selection import train_test_split\n",
    "from xgboost import XGBClassifier\n",
    "from scipy.stats import uniform, randint\n",
    "from sklearn.model_selection import RandomizedSearchCV\n",
    "from sklearn.metrics import accuracy_score, confusion_matrix, classification_report, roc_curve, roc_auc_score, precision_score\n",
    "import pickle\n",
    "%matplotlib inline"
   ]
  },
  {
   "cell_type": "code",
   "execution_count": null,
   "id": "fd25a7ea-8f52-4918-b714-b1e617527d3d",
   "metadata": {},
   "outputs": [],
   "source": [
    "df = pd.read_csv(\"../data/loan.csv\")\n",
    "df"
   ]
  },
  {
   "cell_type": "code",
   "execution_count": null,
   "id": "cfa810bd-196f-43c9-be73-f3f13aab1e00",
   "metadata": {},
   "outputs": [],
   "source": [
    "df.info()"
   ]
  },
  {
   "cell_type": "code",
   "execution_count": null,
   "id": "2b31f6b4-e7d4-41fd-85c0-9763cabcc529",
   "metadata": {},
   "outputs": [],
   "source": [
    "# Total number of missing values present in each feature.\n",
    "df.isna().sum()"
   ]
  },
  {
   "cell_type": "code",
   "execution_count": null,
   "id": "d29c8a83-4e9f-4da9-b8db-1df926559bfe",
   "metadata": {},
   "outputs": [],
   "source": [
    "# Percentage of missing values in each feature towards in the whole data set.\n",
    "null_percent_df = pd.DataFrame(df.isna().sum() / df.shape[0] * 100)\n",
    "null_percent_df"
   ]
  },
  {
   "cell_type": "code",
   "execution_count": null,
   "id": "4fef10e2-bef9-4b89-9f53-e7a832aa3b1e",
   "metadata": {},
   "outputs": [],
   "source": [
    "df['Gender'].fillna(df['Gender'].mode()[0], inplace = True)"
   ]
  },
  {
   "cell_type": "code",
   "execution_count": null,
   "id": "3a7a6141-fe81-4928-a8ae-fe6e9a9fff6f",
   "metadata": {},
   "outputs": [],
   "source": [
    "v = df['Gender'].mode()[0]\n",
    "v\n",
    "# 'Male' value replaced all the null values in Gender feature"
   ]
  },
  {
   "cell_type": "code",
   "execution_count": null,
   "id": "e0938f5c-319e-462b-8686-b158f4ac7d31",
   "metadata": {},
   "outputs": [],
   "source": [
    "# This only considers the features which data type has numeric values\n",
    "df.describe()"
   ]
  },
  {
   "cell_type": "code",
   "execution_count": null,
   "id": "b4354269-db58-479d-aa91-366d51c9b2aa",
   "metadata": {},
   "outputs": [],
   "source": [
    "# This consider all features\n",
    "df.describe(include='all')"
   ]
  },
  {
   "cell_type": "code",
   "execution_count": null,
   "id": "db0dfb68-be92-40d9-a2e0-255b711b6707",
   "metadata": {},
   "outputs": [],
   "source": [
    "df['Married'].fillna(df['Married'].mode()[0], inplace = True)"
   ]
  },
  {
   "cell_type": "code",
   "execution_count": null,
   "id": "dda9512d-249b-4a6a-898f-e773cf20d8f7",
   "metadata": {},
   "outputs": [],
   "source": [
    "df['Dependents'].fillna(df['Dependents'].mode()[0], inplace = True)"
   ]
  },
  {
   "cell_type": "code",
   "execution_count": null,
   "id": "3c40f215-c2d4-4237-996c-4cb33b1e9f3d",
   "metadata": {},
   "outputs": [],
   "source": [
    "df['Self_Employed'].fillna(df['Self_Employed'].mode()[0], inplace = True)"
   ]
  },
  {
   "cell_type": "code",
   "execution_count": null,
   "id": "d90cec4a-63a9-469e-a437-37bc2723616f",
   "metadata": {},
   "outputs": [],
   "source": [
    "# Mean is preferred because it gives optimal value\n",
    "# Mode can give the highest value if that's the maximum count\n",
    "df['LoanAmount'].fillna(df['LoanAmount'].mean(), inplace = True)"
   ]
  },
  {
   "cell_type": "code",
   "execution_count": null,
   "id": "5d0ab0e8-3eb3-4d99-8bb9-88abc13c4da1",
   "metadata": {},
   "outputs": [],
   "source": [
    "df['Loan_Amount_Term'].fillna(df['Loan_Amount_Term'].mode()[0], inplace = True)"
   ]
  },
  {
   "cell_type": "code",
   "execution_count": null,
   "id": "02704578-8b03-473d-803a-539a2fa7ad07",
   "metadata": {},
   "outputs": [],
   "source": [
    "df['Credit_History'].fillna(df['Credit_History'].mode()[0], inplace = True)"
   ]
  },
  {
   "cell_type": "code",
   "execution_count": null,
   "id": "788dcdf1-fcbc-4bd7-b796-4189c81b8c5b",
   "metadata": {},
   "outputs": [],
   "source": [
    "df['Gender'].replace({\"Male\" : 1, \"Female\" : 0}, inplace = True)"
   ]
  },
  {
   "cell_type": "code",
   "execution_count": null,
   "id": "a9e58b2e-626f-4ab3-9935-1be62eb9f6de",
   "metadata": {},
   "outputs": [],
   "source": [
    "df['Married'].unique()"
   ]
  },
  {
   "cell_type": "code",
   "execution_count": null,
   "id": "7a9086fb-0305-4f54-9721-9c666d4245ca",
   "metadata": {},
   "outputs": [],
   "source": [
    "df['Married'].replace({\"Yes\" : 1, \"No\" : 0}, inplace = True)"
   ]
  },
  {
   "cell_type": "code",
   "execution_count": null,
   "id": "f8c47af9-590b-4a4a-a0d7-50fac04ababc",
   "metadata": {},
   "outputs": [],
   "source": [
    "df['Dependents'].unique()"
   ]
  },
  {
   "cell_type": "code",
   "execution_count": null,
   "id": "b4b5a291-2571-4c2a-bcb2-908c7a185399",
   "metadata": {},
   "outputs": [],
   "source": [
    "df['Education'].unique()"
   ]
  },
  {
   "cell_type": "code",
   "execution_count": null,
   "id": "46cd243c-55eb-43f9-be6a-f35d1527768e",
   "metadata": {},
   "outputs": [],
   "source": [
    "df['Education'].replace({\"Graduate\" : 1, \"Not Graduate\" : 0}, inplace = True)"
   ]
  },
  {
   "cell_type": "code",
   "execution_count": null,
   "id": "7087e0f6-3978-4efe-8e1c-af648f65497b",
   "metadata": {},
   "outputs": [],
   "source": [
    "df['Self_Employed'].unique()"
   ]
  },
  {
   "cell_type": "code",
   "execution_count": null,
   "id": "3bb86e5a-f167-429b-89fd-4b99356d753f",
   "metadata": {},
   "outputs": [],
   "source": [
    "df['Self_Employed'].replace({\"Yes\" : 1, \"No\" : 0}, inplace = True)"
   ]
  },
  {
   "cell_type": "code",
   "execution_count": null,
   "id": "8912bd59-28f5-4768-934a-e39f3e56767e",
   "metadata": {},
   "outputs": [],
   "source": [
    "df['Property_Area'].unique()"
   ]
  },
  {
   "cell_type": "code",
   "execution_count": null,
   "id": "0324d2a0-c9f0-46a7-88c3-daca734252b3",
   "metadata": {},
   "outputs": [],
   "source": [
    "df['Loan_Status'].replace({\"Y\" : 1, \"N\" : 0}, inplace = True)"
   ]
  },
  {
   "cell_type": "code",
   "execution_count": null,
   "id": "fba5683b-da8e-48bd-a6ab-fa1ee3a4d80c",
   "metadata": {},
   "outputs": [],
   "source": [
    "df.info()"
   ]
  },
  {
   "cell_type": "code",
   "execution_count": null,
   "id": "25f317e8-9e66-48e1-9c8b-4d850d0dd2f6",
   "metadata": {},
   "outputs": [],
   "source": [
    "df.isna().sum() / len(df) * 100"
   ]
  },
  {
   "cell_type": "code",
   "execution_count": null,
   "id": "2480d558-705a-43b9-a9ac-d668aaca35e9",
   "metadata": {},
   "outputs": [],
   "source": [
    "le = LabelEncoder()"
   ]
  },
  {
   "cell_type": "code",
   "execution_count": null,
   "id": "fb449b70-67f8-4981-9230-230e2a1d3094",
   "metadata": {},
   "outputs": [],
   "source": [
    "df['Dependents'] = le.fit_transform(df['Dependents'])"
   ]
  },
  {
   "cell_type": "code",
   "execution_count": null,
   "id": "432c3b58-fe95-4b7f-bd2e-d6438bf6f41b",
   "metadata": {},
   "outputs": [],
   "source": [
    "df['Property_Area'] = le.fit_transform(df['Property_Area'])"
   ]
  },
  {
   "cell_type": "code",
   "execution_count": null,
   "id": "30f904f6-450b-4f1f-ab11-e89da296433f",
   "metadata": {},
   "outputs": [],
   "source": [
    "le.classes_"
   ]
  },
  {
   "cell_type": "code",
   "execution_count": null,
   "id": "1b8185a6-2510-4fb8-8683-be92c13db00b",
   "metadata": {},
   "outputs": [],
   "source": [
    "le.transform(le.classes_)"
   ]
  },
  {
   "cell_type": "code",
   "execution_count": null,
   "id": "8ff47cd7-258a-492d-8772-3507f1398c5c",
   "metadata": {},
   "outputs": [],
   "source": [
    "le_dict = dict(zip(le.classes_, le.transform(le.classes_)))\n",
    "le_dict"
   ]
  },
  {
   "cell_type": "code",
   "execution_count": null,
   "id": "5cd09ef2-9cbc-4fbc-90e6-7e5e284973bc",
   "metadata": {},
   "outputs": [],
   "source": [
    "df.info()"
   ]
  },
  {
   "cell_type": "code",
   "execution_count": null,
   "id": "9a47e639-bce7-4697-a381-1484860b932c",
   "metadata": {},
   "outputs": [],
   "source": [
    "sns.boxplot(df['LoanAmount'])"
   ]
  },
  {
   "cell_type": "code",
   "execution_count": null,
   "id": "7e4be39b-4bb5-461f-933c-081c0ef6fed4",
   "metadata": {},
   "outputs": [],
   "source": [
    "# Histogram\n",
    "# Right Skewed Data\n",
    "df['LoanAmount'].hist(bins = 50)"
   ]
  },
  {
   "cell_type": "code",
   "execution_count": null,
   "id": "243653ea-1aeb-47d1-8780-e12110d0276f",
   "metadata": {},
   "outputs": [],
   "source": [
    "# Power Transform\n",
    "# To remove the skewness and get Normal Distribution\n",
    "plt.hist(np.log(df['LoanAmount']))"
   ]
  },
  {
   "cell_type": "code",
   "execution_count": null,
   "id": "18784788-6a4a-4db7-aa48-c36cae5b706c",
   "metadata": {},
   "outputs": [],
   "source": [
    "# Log Transformation\n",
    "df['log_LoanAmount'] = np.log(df['LoanAmount'])"
   ]
  },
  {
   "cell_type": "code",
   "execution_count": null,
   "id": "e32584bc-e184-4cdb-a30c-4b4e5950b453",
   "metadata": {},
   "outputs": [],
   "source": [
    "sns.boxplot(df['log_LoanAmount'])"
   ]
  },
  {
   "cell_type": "code",
   "execution_count": null,
   "id": "483bedb0-dedb-4e9c-b08e-4dabf6e1471a",
   "metadata": {},
   "outputs": [],
   "source": [
    "sns.distplot(df['log_LoanAmount'], kde = True)"
   ]
  },
  {
   "cell_type": "code",
   "execution_count": null,
   "id": "fbfe1654-5521-4449-ba8e-1c19b639ee60",
   "metadata": {},
   "outputs": [],
   "source": [
    "df.columns"
   ]
  },
  {
   "cell_type": "code",
   "execution_count": null,
   "id": "b44e98fb-ec2e-4e0e-a62a-94a19061492a",
   "metadata": {},
   "outputs": [],
   "source": [
    "df['TotalIncome'] = df['ApplicantIncome'] + df['CoapplicantIncome']"
   ]
  },
  {
   "cell_type": "code",
   "execution_count": null,
   "id": "0aba00ff-de83-4406-a724-430d69d546b4",
   "metadata": {},
   "outputs": [],
   "source": [
    "sns.boxplot(df['TotalIncome'])"
   ]
  },
  {
   "cell_type": "code",
   "execution_count": null,
   "id": "9c9afaea-a861-47e6-9ec4-db51f394deda",
   "metadata": {},
   "outputs": [],
   "source": [
    "df['TotalIncome'].hist()"
   ]
  },
  {
   "cell_type": "code",
   "execution_count": null,
   "id": "4fb718f1-9755-4f0c-9d93-7d952b64279b",
   "metadata": {},
   "outputs": [],
   "source": [
    "df['log_TotalIncome'] = np.log(df['TotalIncome'])"
   ]
  },
  {
   "cell_type": "code",
   "execution_count": null,
   "id": "106b60ab-20f3-4ffe-874b-5b279f482942",
   "metadata": {},
   "outputs": [],
   "source": [
    "df.head()"
   ]
  },
  {
   "cell_type": "code",
   "execution_count": null,
   "id": "8fbfff94-dc8a-4de6-ba20-66e09f4a9a52",
   "metadata": {},
   "outputs": [],
   "source": [
    "df.drop(columns=['Loan_ID', 'ApplicantIncome', 'CoapplicantIncome', 'LoanAmount', 'TotalIncome'], axis = 1, inplace = True)"
   ]
  },
  {
   "cell_type": "code",
   "execution_count": null,
   "id": "b1eb24cf-e619-491b-92a1-7f38e122cdf2",
   "metadata": {},
   "outputs": [],
   "source": [
    "df.columns"
   ]
  },
  {
   "cell_type": "code",
   "execution_count": null,
   "id": "03077a01-d16e-4233-96f4-be401f19f876",
   "metadata": {},
   "outputs": [],
   "source": [
    "df = df[['Gender', 'Married', 'Dependents', 'Education', 'Self_Employed', 'Loan_Amount_Term', 'Credit_History', \n",
    "              'Property_Area', 'log_LoanAmount', 'log_TotalIncome', 'Loan_Status']]"
   ]
  },
  {
   "cell_type": "code",
   "execution_count": null,
   "id": "9b4c2d9f-2d1b-454c-9083-106f0b4d4928",
   "metadata": {},
   "outputs": [],
   "source": [
    "X = df.drop(columns = ['Loan_Status'])\n",
    "y = df['Loan_Status']\n",
    "X.shape"
   ]
  },
  {
   "cell_type": "code",
   "execution_count": null,
   "id": "b25bf361-ac71-4116-9bb3-5c5858ab0f45",
   "metadata": {},
   "outputs": [],
   "source": [
    "y.shape"
   ]
  },
  {
   "cell_type": "code",
   "execution_count": null,
   "id": "c1a8e8a9-9321-4c58-ba87-b182d7832621",
   "metadata": {},
   "outputs": [],
   "source": [
    "X_train, X_test, y_train, y_test = train_test_split(X, y, test_size = 0.2, random_state = 42, stratify = y)"
   ]
  },
  {
   "cell_type": "code",
   "execution_count": null,
   "id": "f940ba1f-4f95-4f85-bc3e-bd819175a1f5",
   "metadata": {},
   "outputs": [],
   "source": [
    "%%time\n",
    "xgbc = XGBClassifier(n_estimators = 120)\n",
    "xgbc.fit(X_train, y_train)"
   ]
  },
  {
   "cell_type": "code",
   "execution_count": null,
   "id": "2fb4af26-479f-48d7-85d7-6ba780833c1d",
   "metadata": {},
   "outputs": [],
   "source": [
    "y_pred_xgbc = xgbc.predict(X_test)\n",
    "precision_xgbc = precision_score(y_test, y_pred_xgbc)\n",
    "precision_xgbc"
   ]
  },
  {
   "cell_type": "code",
   "execution_count": null,
   "id": "a35f9e0a-eb68-4d68-aea0-2dc998bffbff",
   "metadata": {},
   "outputs": [],
   "source": [
    "param_dist = {\n",
    "    'learning_rate': uniform(0.01, 0.1), # range of values for learning rate\n",
    "    'max_depth': randint(1, 10), # range of values for max depth\n",
    "    'n_estimators': randint(10, 500), # range of values for number of estimators\n",
    "    'gamma': uniform(0.01, 0.1), # range of values for gamma\n",
    "    'subsample': uniform(0.1, 0.5), # range of values for subsample\n",
    "    'colsample_bytree': uniform(0.1, 0.5) # range of values for colsample_bytree\n",
    "}"
   ]
  },
  {
   "cell_type": "code",
   "execution_count": null,
   "id": "2345d71d-49a9-4b35-a712-ef7a7845071e",
   "metadata": {},
   "outputs": [],
   "source": [
    "xgbc_rscv = RandomizedSearchCV(\n",
    "    estimator = xgbc,\n",
    "    param_distributions = param_dist,\n",
    "    n_iter = 100, # number of combinations of hyperparameters to try\n",
    "    cv = 5, # number of cross-validation folds\n",
    "    scoring = 'accuracy',\n",
    "    n_jobs = -1 # number of parallel jobs to run (-1 means use all available cores)\n",
    ")"
   ]
  },
  {
   "cell_type": "code",
   "execution_count": null,
   "id": "4e22027d-9c23-4380-b947-e6913b720e22",
   "metadata": {},
   "outputs": [],
   "source": [
    "%%time\n",
    "xgbc_rscv.fit(X_train, y_train)"
   ]
  },
  {
   "cell_type": "code",
   "execution_count": null,
   "id": "5fcfaa3b-7a52-48bb-8a56-279a407c22c4",
   "metadata": {},
   "outputs": [],
   "source": [
    "print('Best hyperparameters: ', xgbc_rscv.best_params_)\n",
    "print('Best score: ', xgbc_rscv.best_score_)"
   ]
  },
  {
   "cell_type": "code",
   "execution_count": null,
   "id": "b7010266-e736-4953-9197-06f168bc38d0",
   "metadata": {},
   "outputs": [],
   "source": [
    "best_learning_rate = xgbc_rscv.best_params_['learning_rate']\n",
    "best_max_depth = xgbc_rscv.best_params_['max_depth']\n",
    "best_n_estimators = xgbc_rscv.best_params_['n_estimators']\n",
    "best_gamma = xgbc_rscv.best_params_['gamma']\n",
    "best_subsample = xgbc_rscv.best_params_['subsample']\n",
    "best_colsample_bytree = xgbc_rscv.best_params_['colsample_bytree']"
   ]
  },
  {
   "cell_type": "code",
   "execution_count": null,
   "id": "faf6dd11-b69f-4e46-b5ce-bdc914f60597",
   "metadata": {},
   "outputs": [],
   "source": [
    "xgb_classifier = XGBClassifier(\n",
    "    learning_rate = best_learning_rate,\n",
    "    max_depth = best_max_depth,\n",
    "    n_estimators = best_n_estimators,\n",
    "    gamma = best_gamma,\n",
    "    subsample = best_subsample,\n",
    "    colsample_bytree = best_colsample_bytree\n",
    ")"
   ]
  },
  {
   "cell_type": "code",
   "execution_count": null,
   "id": "34b11d9b-5634-48fb-8e9c-30275d73a29b",
   "metadata": {},
   "outputs": [],
   "source": [
    "xgb_classifier.fit(X_train, y_train)"
   ]
  },
  {
   "cell_type": "code",
   "execution_count": null,
   "id": "003947ea-c1db-40ee-a884-74f88e00eba4",
   "metadata": {},
   "outputs": [],
   "source": [
    "y_pred = xgb_classifier.predict(X_test)"
   ]
  },
  {
   "cell_type": "code",
   "execution_count": null,
   "id": "4ff70ad5-5c99-4c2e-be59-96af4e93db06",
   "metadata": {},
   "outputs": [],
   "source": [
    "# accuracy score\n",
    "accuracy = accuracy_score(y_test, y_pred)\n",
    "print(\"Accuracy:\", accuracy)\n",
    "print(\"Accuracy:\", accuracy * 100)"
   ]
  },
  {
   "cell_type": "code",
   "execution_count": null,
   "id": "0df7ed04-f7d7-48ef-a780-03996b81ddbe",
   "metadata": {},
   "outputs": [],
   "source": [
    "# confusion matrix\n",
    "confusion_matrix = confusion_matrix(y_test, y_pred)\n",
    "print(\"Confusion Matrix: \\n\", confusion_matrix)"
   ]
  },
  {
   "cell_type": "code",
   "execution_count": null,
   "id": "b47f351a-e887-4a18-8c0e-b2ca01d834a6",
   "metadata": {},
   "outputs": [],
   "source": [
    "sns.heatmap(confusion_matrix, annot = True, cmap = 'Blues')\n",
    "plt.xlabel('Predicted')\n",
    "plt.ylabel('True')\n",
    "plt.show()"
   ]
  },
  {
   "cell_type": "code",
   "execution_count": null,
   "id": "17f4cd36-2ce7-4c6d-906a-27c047247925",
   "metadata": {},
   "outputs": [],
   "source": [
    "# Classification Report\n",
    "print('Classification Report:')\n",
    "print(classification_report(y_test, y_pred))"
   ]
  },
  {
   "cell_type": "code",
   "execution_count": null,
   "id": "4a042bb6-cc58-4880-902a-160b442a8cb5",
   "metadata": {},
   "outputs": [],
   "source": [
    "# Generate the classification report\n",
    "report = classification_report(y_test, y_pred, output_dict=True)\n",
    "\n",
    "# Convert the report to a DataFrame\n",
    "df_report = pd.DataFrame(report).transpose()\n",
    "\n",
    "# Plot the report\n",
    "sns.heatmap(df_report.drop(['support'], axis=1), annot=True)\n",
    "plt.show()"
   ]
  },
  {
   "cell_type": "code",
   "execution_count": null,
   "id": "2fa2ca31-eec5-4800-9534-87cfbbb6e6c6",
   "metadata": {},
   "outputs": [],
   "source": [
    "# ROC AUC Score\n",
    "y_proba = xgbc_rscv.predict_proba(X_test)[:, 1]\n",
    "fpr, tpr, thresholds = roc_curve(y_test, y_proba)\n",
    "\n",
    "plt.plot(fpr, tpr)\n",
    "plt.xlabel('False Positive Rate')\n",
    "plt.ylabel('True Positive Rate')\n",
    "plt.title('ROC Curve')\n",
    "plt.show()\n",
    "\n",
    "auc = roc_auc_score(y_test, y_proba)\n",
    "print('AUC:', auc)"
   ]
  },
  {
   "cell_type": "code",
   "execution_count": null,
   "id": "07081389-b662-4066-9e86-209fb101dce5",
   "metadata": {},
   "outputs": [],
   "source": [
    "# Precision\n",
    "precision = precision_score(y_test, y_pred)\n",
    "print('Precision:', precision)"
   ]
  },
  {
   "cell_type": "code",
   "execution_count": null,
   "id": "7cb750ca-f657-4449-8a7b-e9ad6180b6eb",
   "metadata": {},
   "outputs": [],
   "source": [
    "model = pickle.dump(xgbc_rscv, open('../models/xgboost.pkl', 'wb'))"
   ]
  },
  {
   "cell_type": "code",
   "execution_count": null,
   "id": "eb5e5207-98ac-4799-9a64-4adf7cec4fff",
   "metadata": {},
   "outputs": [],
   "source": [
    "# Load the trained classifier from the pickle file\n",
    "with open('../models/xgboost.pkl', 'rb') as f:\n",
    "    xgbc_rscv_model = pickle.load(f)\n",
    "    \n",
    "# Data\n",
    "\n",
    "# new_data = pd.DataFrame([[1, 0, 0, 1, 1, 12, 0, 2, 1, 10]])\n",
    "# new_data = pd.DataFrame([[1, 4, 9, 2, 0, 8, 6, 5, 7, 3]])\n",
    "# new_data = pd.DataFrame([[1, 1, 0, 0, 0, 360, 1, 0, 4.5, 8.2],\n",
    "#                          [0, 1, 1, 1, 1, 360, 1, 2, 4.2, 8.0],\n",
    "#                          [1, 1, 0, 1, 0, 360, 1, 1, 4.3, 8.5]], \n",
    "#                         columns=['Gender', 'Married', 'Dependents', 'Education', 'Self_Employed', \n",
    "#                                  'Loan_Amount_Term', 'Credit_History', 'Property_Area', \n",
    "#                                  'log_LoanAmount', 'log_TotalIncome'])\n",
    "\n",
    "new_data = pd.DataFrame([[1, 1, 0, 0, 0, 360, 1, 0, 4.5, 8.2]], \n",
    "                        columns=['Gender', 'Married', 'Dependents', 'Education', 'Self_Employed', \n",
    "                                 'Loan_Amount_Term', 'Credit_History', 'Property_Area', \n",
    "                                 'log_LoanAmount', 'log_TotalIncome'])\n",
    "\n",
    "# Make predictions on the new data\n",
    "predictions = xgbc_rscv_model.predict(new_data)\n",
    "\n",
    "# Print the predictions\n",
    "print(predictions)"
   ]
  },
  {
   "cell_type": "code",
   "execution_count": null,
   "id": "4b14e208-4dc7-4d8d-94d2-55de8a37fd09",
   "metadata": {},
   "outputs": [],
   "source": []
  }
 ],
 "metadata": {
  "kernelspec": {
   "display_name": "Python 3 (ipykernel)",
   "language": "python",
   "name": "python3"
  },
  "language_info": {
   "codemirror_mode": {
    "name": "ipython",
    "version": 3
   },
   "file_extension": ".py",
   "mimetype": "text/x-python",
   "name": "python",
   "nbconvert_exporter": "python",
   "pygments_lexer": "ipython3",
   "version": "3.13.5"
  }
 },
 "nbformat": 4,
 "nbformat_minor": 5
}
